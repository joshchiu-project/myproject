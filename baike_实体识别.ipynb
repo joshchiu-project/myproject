{
 "cells": [
  {
   "cell_type": "code",
   "execution_count": 12,
   "metadata": {
    "collapsed": true
   },
   "outputs": [],
   "source": [
    "import pandas as pd\n",
    "from pymongo import MongoClient\n",
    "import re"
   ]
  },
  {
   "cell_type": "code",
   "execution_count": 1,
   "metadata": {
    "collapsed": true
   },
   "outputs": [],
   "source": [
    "\n",
    "\n",
    "def _connect_mongo(host, port, username, password, db):\n",
    "    \"\"\" A util for making a connection to mongo \"\"\"\n",
    "\n",
    "    if username and password:\n",
    "        mongo_uri = 'mongodb://%s:%s@%s:%s/%s' % (username, password, host, port, db)\n",
    "        conn = MongoClient(mongo_uri)\n",
    "    else:\n",
    "        conn = MongoClient(host, port)\n",
    "\n",
    "\n",
    "    return conn[db]\n",
    "\n",
    "\n",
    "def read_mongo(db, collection, query={}, host='localhost', port=27017, username=None, password=None, no_id=True):\n",
    "    \"\"\" Read from Mongo and Store into DataFrame \"\"\"\n",
    "\n",
    "    # Connect to MongoDB\n",
    "    db = _connect_mongo(host=host, port=port, username=username, password=password, db=db)\n",
    "\n",
    "    # Make a query to the specific DB and Collection\n",
    "    cursor = db[collection].find(query)\n",
    "\n",
    "    # Expand the cursor and construct the DataFrame\n",
    "    df =  pd.DataFrame(list(cursor))\n",
    "\n",
    "    # Delete the _id\n",
    "    if no_id:\n",
    "        del df['_id']\n",
    "\n",
    "    return df"
   ]
  },
  {
   "cell_type": "code",
   "execution_count": 2,
   "metadata": {
    "collapsed": true
   },
   "outputs": [],
   "source": [
    "mongo_uri = 'mongodb://%s:%s@%s:%s' % ('graph','!QAZ2wsx189','120.26.40.189','27017')\n",
    "conn = MongoClient(mongo_uri) \n",
    "mydb = conn['baike_raw']\n",
    "mycol = mydb[\"baidu_figure\"]\n",
    "df =  pd.DataFrame(list(mycol.find()))"
   ]
  },
  {
   "cell_type": "code",
   "execution_count": 106,
   "metadata": {},
   "outputs": [
    {
     "name": "stdout",
     "output_type": "stream",
     "text": [
      ";divideloadE69687E694BBE6ADA6E58DAB收藏查看ucfavolemma我的收藏void0);0有用1已投票0void0);void0);void0);void0);文攻武卫;编辑view10812319.htm锁定文攻武卫是文化大革命中江青提出的反动口号。1967年7月22日，江青接见河南二七公社代表讲话中首次提出。次日，上海文汇报公开发表这个口号。9月5日，江青接见安徽代表时又大讲文攻武卫。此后，各地纷纷成立所谓文攻武卫指挥部等组织，借用毛泽东和马列主义著作中的语录，割裂马列主义的思想体系，宣传唯我独革，攻击对立面的群众和一切反对文革动乱的意见;夺取解放军的枪枝弹药，制造流血事件，致使全国武斗加剧，打砸抢抄成风，交通运输遭到破坏，解放军的武器装备和军用物资也被抢走，造成全面内战的混乱局面。[1]中文名文攻武卫性质口号提出人江青提出时间1967年7月22日目录11背景22口号提出文攻武卫背景;编辑【文攻武卫】这是文化大革命的产物。文化大革命全面展开后，党政军大批领导人被打倒，各级领导机关基本瘫痪。就在左倾错误急剧发展的形势下，itemE4BABAE6B091E697A5E68AA5人民日报红旗杂志又在1967年元旦社论中提出，1967年将是全国全面开展阶级斗争的一年，要求在全国开展所谓的总攻击。于是itemE69E97E5BDAA116221林彪江青变本加厉的煽动打倒一切全面内战。文攻武卫口号提出;编辑7月22日，江青在对河南一派群众组织的代表讲话时，提出了所谓文攻武卫的口号，煽动武斗。次日，文攻武卫的口号在上海itemE69687E6B187E68AA51066221文汇报公开发表。从此全国武斗急剧升级，陷入了全面内战的混乱局面。参考资料1.ref[1]723426刘建明，王泰玄等．宣传舆论学大辞典：经济日报出版社，1993－03词条标签：社会，出版物\n"
     ]
    }
   ],
   "source": [
    "from pyhanlp import *\n",
    "\n",
    "trinity = []\n",
    "for comment in df.iterrows(): \n",
    "    my_comment = comment[1]['content']\n",
    "    my_comment = re.sub(\"[\\s+\\!\\/_$%^*(+\\\"\\']+|[+——、~@#￥%……&*（）<>《》”“]+\", \"\",my_comment)\n",
    "    print(my_comment)\n",
    "    \n",
    "    for term in  CRFnewSegment.seg(my_comment):\n",
    "#         print('{}\\t{}'.format(term.word, term.nature)) \n",
    "        if str(term.nature) in ('ns','nt','nr'):\n",
    "            trinity.append(term.word)\n",
    "    break"
   ]
  },
  {
   "cell_type": "code",
   "execution_count": 113,
   "metadata": {},
   "outputs": [
    {
     "data": {
      "text/plain": [
       "['江青',\n",
       " '河南二七公社',\n",
       " '上海',\n",
       " '江青',\n",
       " '安徽',\n",
       " '毛泽东',\n",
       " '江青',\n",
       " '彪江',\n",
       " '江青',\n",
       " '河南',\n",
       " '上海',\n",
       " '刘建明',\n",
       " '王泰玄',\n",
       " '经济日报出版社']"
      ]
     },
     "execution_count": 113,
     "metadata": {},
     "output_type": "execute_result"
    }
   ],
   "source": [
    "trinity\n",
    "\n"
   ]
  },
  {
   "cell_type": "code",
   "execution_count": 111,
   "metadata": {},
   "outputs": [
    {
     "name": "stdout",
     "output_type": "stream",
     "text": [
      "1\t此后\t此后\tnt\tt\t_\t5\t状中结构\t_\t_\n",
      "2\t，\t，\twp\tw\t_\t1\t标点符号\t_\t_\n",
      "3\t各地\t各地\tr\tr\t_\t5\t主谓关系\t_\t_\n",
      "4\t纷纷\t纷纷\td\td\t_\t5\t状中结构\t_\t_\n",
      "5\t成立\t成立\tv\tv\t_\t0\t核心关系\t_\t_\n",
      "6\t所谓\t所谓\tv\tv\t_\t10\t定中关系\t_\t_\n",
      "7\t文\t文\tNg\tNg\t_\t10\t定中关系\t_\t_\n",
      "8\t攻\t攻\tv\tv\t_\t7\t并列关系\t_\t_\n",
      "9\t武卫\t武卫\tn\tn\t_\t8\t动宾关系\t_\t_\n",
      "10\t指挥部\t指挥部\tn\tn\t_\t12\t定中关系\t_\t_\n",
      "11\t等\t等\tu\tu\t_\t10\t右附加关系\t_\t_\n",
      "12\t组织\t组织\tn\tn\t_\t5\t动宾关系\t_\t_\n",
      "13\t，\t，\twp\tw\t_\t5\t标点符号\t_\t_\n",
      "14\t借用\t借用\tv\tv\t_\t5\t并列关系\t_\t_\n",
      "15\t毛泽东\t毛泽东\tnh\tnr\t_\t20\t定中关系\t_\t_\n",
      "16\t和\t和\tc\tc\t_\t18\t左附加关系\t_\t_\n",
      "17\t马列主义\t马列主义\tn\tn\t_\t18\t定中关系\t_\t_\n",
      "18\t著作\t著作\tn\tn\t_\t15\t并列关系\t_\t_\n",
      "19\t中的\t中的\tu\tz\t_\t20\t定中关系\t_\t_\n",
      "20\t语录\t语录\tn\tn\t_\t14\t动宾关系\t_\t_\n",
      "21\t，\t，\twp\tw\t_\t14\t标点符号\t_\t_\n",
      "22\t割裂\t割裂\tv\tv\t_\t25\t定中关系\t_\t_\n",
      "23\t马列主义\t马列主义\tn\tn\t_\t22\t动宾关系\t_\t_\n",
      "24\t的\t的\tu\tu\t_\t22\t右附加关系\t_\t_\n",
      "25\t思想体系\t思想体系\tn\tn\t_\t27\t主谓关系\t_\t_\n",
      "26\t，\t，\twp\tw\t_\t25\t标点符号\t_\t_\n",
      "27\t宣传\t宣传\tv\tv\t_\t5\t并列关系\t_\t_\n",
      "28\t唯我独革\t唯我独革\ti\tl\t_\t27\t动宾关系\t_\t_\n",
      "29\t，\t，\twp\tw\t_\t27\t标点符号\t_\t_\n",
      "30\t攻击\t攻击\tv\tv\t_\t33\t定中关系\t_\t_\n",
      "31\t对立面\t对立面\tn\tn\t_\t30\t动宾关系\t_\t_\n",
      "32\t的\t的\tu\tu\t_\t30\t右附加关系\t_\t_\n",
      "33\t群众\t群众\tn\tn\t_\t36\t主谓关系\t_\t_\n",
      "34\t和\t和\tc\tc\t_\t35\t左附加关系\t_\t_\n",
      "35\t一切\t一切\tr\tr\t_\t33\t并列关系\t_\t_\n",
      "36\t反对\t反对\tv\tv\t_\t40\t定中关系\t_\t_\n",
      "37\t文革\t文革\tj\tj\t_\t38\t定中关系\t_\t_\n",
      "38\t动乱\t动乱\tv\tv\t_\t36\t动宾关系\t_\t_\n",
      "39\t的\t的\tu\tu\t_\t36\t右附加关系\t_\t_\n",
      "40\t意见\t意见\tn\tn\t_\t42\t主谓关系\t_\t_\n",
      "41\t;\t;\ta\tad\t_\t42\t状中结构\t_\t_\n",
      "42\t夺取\t夺取\tv\tv\t_\t27\t并列关系\t_\t_\n",
      "43\t解放军\t解放军\tn\tn\t_\t46\t定中关系\t_\t_\n",
      "44\t的\t的\tu\tu\t_\t43\t右附加关系\t_\t_\n",
      "45\t枪枝\t枪枝\tn\tn\t_\t46\t定中关系\t_\t_\n",
      "46\t弹药\t弹药\tn\tn\t_\t42\t动宾关系\t_\t_\n",
      "47\t，\t，\twp\tw\t_\t42\t标点符号\t_\t_\n",
      "48\t制造\t制造\tv\tv\t_\t50\t定中关系\t_\t_\n",
      "49\t流血\t流血\tv\tvn\t_\t50\t定中关系\t_\t_\n",
      "50\t事件\t事件\tn\tn\t_\t52\t主谓关系\t_\t_\n",
      "51\t，\t，\twp\tw\t_\t50\t标点符号\t_\t_\n",
      "52\t致使\t致使\tv\tv\t_\t42\t并列关系\t_\t_\n",
      "53\t全国\t全国\tn\tn\t_\t54\t定中关系\t_\t_\n",
      "54\t武斗\t武斗\tn\tn\t_\t52\t兼语\t_\t_\n",
      "55\t加剧\t加剧\tv\tv\t_\t52\t动宾关系\t_\t_\n",
      "56\t，\t，\twp\tw\t_\t52\t标点符号\t_\t_\n",
      "57\t打砸抢\t打砸抢\tv\tv\t_\t52\t并列关系\t_\t_\n",
      "58\t抄\t抄\tv\tv\t_\t57\t并列关系\t_\t_\n",
      "59\t成风\t成风\tn\tn\t_\t58\t动宾关系\t_\t_\n",
      "60\t，\t，\twp\tw\t_\t57\t标点符号\t_\t_\n",
      "61\t交通\t交通\tn\tn\t_\t62\t定中关系\t_\t_\n",
      "62\t运输\t运输\tv\tvn\t_\t63\t主谓关系\t_\t_\n",
      "63\t遭到\t遭到\tv\tv\t_\t57\t并列关系\t_\t_\n",
      "64\t破坏\t破坏\tv\tv\t_\t63\t动宾关系\t_\t_\n",
      "65\t，\t，\twp\tw\t_\t63\t标点符号\t_\t_\n",
      "66\t解放军\t解放军\tn\tn\t_\t69\t定中关系\t_\t_\n",
      "67\t的\t的\tu\tu\t_\t66\t右附加关系\t_\t_\n",
      "68\t武器\t武器\tn\tn\t_\t69\t定中关系\t_\t_\n",
      "69\t装备\t装备\tn\tn\t_\t75\t前置宾语\t_\t_\n",
      "70\t和\t和\tc\tc\t_\t72\t左附加关系\t_\t_\n",
      "71\t军用\t军用\tb\tb\t_\t72\t定中关系\t_\t_\n",
      "72\t物资\t物资\tn\tn\t_\t69\t并列关系\t_\t_\n",
      "73\t也\t也\td\td\t_\t75\t状中结构\t_\t_\n",
      "74\t被\t被\tp\tp\t_\t75\t状中结构\t_\t_\n",
      "75\t抢走\t抢走\tv\tv\t_\t63\t并列关系\t_\t_\n",
      "76\t，\t，\twp\tw\t_\t75\t标点符号\t_\t_\n",
      "77\t造成\t造成\tv\tv\t_\t82\t定中关系\t_\t_\n",
      "78\t全面\t全面\ta\ta\t_\t79\t定中关系\t_\t_\n",
      "79\t内战\t内战\tn\tn\t_\t77\t动宾关系\t_\t_\n",
      "80\t的\t的\tu\tu\t_\t77\t右附加关系\t_\t_\n",
      "81\t混乱\t混乱\ta\ta\t_\t82\t定中关系\t_\t_\n",
      "82\t局面\t局面\tn\tn\t_\t75\t动宾关系\t_\t_\n",
      "\n"
     ]
    }
   ],
   "source": [
    "sentence = HanLP.parseDependency(my_comment.split('。')[4])\n",
    "\n",
    "print(sentence)\n",
    "\n",
    "# for word in sentence.iterator():  # 通过dir()可以查看sentence的方法\n",
    "    \n",
    "#     print(\"%s --(%s)--> %s\" % (word.LEMMA, word.DEPREL, word.HEAD.LEMMA))\n",
    "\n",
    "\n",
    "# 也可以直接拿到数组，任意顺序或逆序遍历\n",
    "# word_array = sentence.getWordArray()\n",
    "# for word in word_array:\n",
    "#     print(\"%s --(%s)--> %s\" % (word.LEMMA, word.DEPREL, word.HEAD.LEMMA))\n",
    "\n",
    "# # 还可以直接遍历子树，从某棵子树的某个节点一路遍历到虚根\n",
    "# CoNLLWord = JClass(\"com.hankcs.hanlp.corpus.dependency.CoNll.CoNLLWord\")\n",
    "# head = word_array[2]\n",
    "# while head.HEAD:\n",
    "#     head = head.HEAD\n",
    "#     if (head == CoNLLWord.ROOT):\n",
    "#         print(head.LEMMA)\n",
    "#     else:\n",
    "#         print(\"%s --(%s)--> \" % (head.LEMMA, head.DEPREL))\n"
   ]
  },
  {
   "cell_type": "code",
   "execution_count": 94,
   "metadata": {},
   "outputs": [
    {
     "name": "stdout",
     "output_type": "stream",
     "text": [
      "7\n"
     ]
    }
   ],
   "source": [
    "print(word.ID)\n"
   ]
  }
 ],
 "metadata": {
  "kernelspec": {
   "display_name": "Python 3",
   "language": "python",
   "name": "python3"
  },
  "language_info": {
   "codemirror_mode": {
    "name": "ipython",
    "version": 3
   },
   "file_extension": ".py",
   "mimetype": "text/x-python",
   "name": "python",
   "nbconvert_exporter": "python",
   "pygments_lexer": "ipython3",
   "version": "3.6.3"
  }
 },
 "nbformat": 4,
 "nbformat_minor": 2
}
