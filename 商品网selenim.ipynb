{
 "cells": [
  {
   "cell_type": "code",
   "execution_count": 2,
   "metadata": {
    "collapsed": true
   },
   "outputs": [],
   "source": [
    "from selenium import webdriver\n",
    "from selenium.webdriver.common.keys import Keys\n",
    "from selenium.webdriver.chrome.options import Options\n",
    "from PIL import Image \n",
    "from selenium.webdriver.common.action_chains import ActionChains\n",
    "import requests\n",
    "from bs4 import BeautifulSoup as bs\n",
    "import os\n",
    "import time\n",
    "import io\n",
    "from random import randint\n",
    "from time import sleep\n",
    "import re\n",
    "import datetime\n",
    "import time\n",
    "\n",
    "def get_cach(driver):\n",
    "    while True:\n",
    "        driver.get('http://search.anccnet.com/searchResult2.aspx')   \n",
    "        driver.fullscreen_window()\n",
    "        sleep(2)\n",
    "\n",
    "        element = driver.find_element_by_class_name(\"l-captcha\")\n",
    "        element.click()\n",
    "        sleep(2)\n",
    "        driver.save_screenshot('tem.png',)\n",
    "\n",
    "        #######\n",
    "        im = Image.open('tem.png') \n",
    "\n",
    "\n",
    "        im = im.resize((1440,900))\n",
    "\n",
    "        # 图片的宽度和高度\n",
    "        img_size = im.size\n",
    "        print('图片识别')\n",
    "\n",
    "        x = 720\n",
    "        y = 154\n",
    "        w = 300\n",
    "        h = 160\n",
    "        test = im.crop((x, y, x+w, y+h))\n",
    "        width = test.size[0]\n",
    "        height = test.size[1]\n",
    "        test = test.convert('RGB')\n",
    "        array = []\n",
    "        for x in range(width):\n",
    "            for y in range(height):\n",
    "                r, g, b = test.getpixel((x,y))\n",
    "                rgb = (r, g, b)\n",
    "                if sum(rgb) == 765:\n",
    "                    array.append((x,y))\n",
    "        x_set = list()\n",
    "        y_set = list()\n",
    "        for line in array:\n",
    "            x_set.append(line[0])\n",
    "            y_set.append(line[1])\n",
    "        my_x = int(sum(x_set) / float(len(x_set)))\n",
    "        my_y = int(sum(y_set) / float(len(y_set)))\n",
    "    #     print(my_x,my_y)\n",
    "        test.load()[my_x,my_y] = (0,0,0)\n",
    "\n",
    "\n",
    "        element = driver.find_elements_by_xpath(\"//iframe\")[1]\n",
    "        print(element.location)\n",
    "\n",
    "        sleep(1)\n",
    "        action = ActionChains(driver)\n",
    "        action.move_to_element_with_offset( element, my_x,  my_y)\n",
    "        # sleep(1)\n",
    "        action.click()\n",
    "    #     sleep(1)\n",
    "#         action.click()\n",
    "        action.perform()\n",
    "\n",
    "        sleep(10)\n",
    "        driver.refresh()\n",
    "        res = bs(driver.page_source)\n",
    "        if len(res.select('#Label1')) != 0:\n",
    "            print('验证成功')\n",
    "            break\n",
    "        else:\n",
    "            print('验证失败')\n",
    "            driver.refresh()\n",
    "            continue\n",
    "    return driver,test\n",
    "\n",
    "\n",
    "def  create_driver():\n",
    "    option = webdriver.ChromeOptions()\n",
    "    option.arguments.clear()\n",
    "    for key in headers:\n",
    "        mystring = key+'=\\\"'+headers[key]+\"\\\"\"\n",
    "        option.add_argument(mystring)\n",
    "    option.add_argument('--headless')\n",
    "    ip =  get_new_ip()['http']\n",
    "    my_proxy ='--proxy-server=' + ip\n",
    "    \n",
    "    option.add_argument(my_proxy) \n",
    "    option.add_argument(\"--window-size=1440,900\")\n",
    "    driver = webdriver.Chrome('../test/chromedriver',chrome_options=option)\n",
    "    driver.set_window_rect(0,0,1440,900)\n",
    "    driver.delete_all_cookies()\n",
    "\n",
    "    \n",
    "    return driver,option,ip\n",
    "\n",
    "headers = {\n",
    "\n",
    "'Host':'search.anccnet.com',\n",
    "'Referer':'http://search.anccnet.com/searchResult2.aspx',\n",
    "'User-Agent':'Mozilla/5.0 (Windows NT 6.1; WOW64) AppleWebKit/537.36 (KHTML, like Gecko) Chrome/51.0.2704.84 Safari/537.36',\n",
    "'Upgrade-Insecure-Requests':'1',\n",
    "'Accept-Encoding':'gzip, deflate',\n",
    "    \n",
    "'Accept':'text/html,application/xhtml+xml,application/xml;q=0.9,*/*;q=0.8',\n",
    "\n",
    "'Accept-Language':'zh-TW,zh;q=0.8,en-US;q=0.5,en;q=0.3',\n",
    "\n",
    "'DNT':'1',\n",
    "'Connection':'keep-alive',\n",
    " 'Cookies':'cuuid_322149=46e1c054ee1090e033563512a08143d9'\n",
    "    \n",
    "}\n",
    "\n",
    "\n",
    "def get_new_ip ():\n",
    "    ip = requests.get(\"http://http.tiqu.qingjuhe.cn/getip?num=1&type=1&pro=&city=0&yys=0&port=1&pack=23882&ts=0&ys=0&cs=0&lb=1&sb=0&pb=4&mr=0&regions=\")\n",
    "    proxyDict = { \n",
    "              \"http\"  : \"http://\"+ip.text.strip(), \n",
    "              \"https\" : \"https://\"+ip.text.strip()\n",
    "            }\n",
    "    return proxyDict\n",
    "\n",
    "\n",
    "def get_product_info(new_res):\n",
    "    mydic ={}\n",
    "    mydic['product_price'] = 'null'\n",
    "    for line in new_res.select('script')[-3].text.split('\\n'):   \n",
    "#         if 'txt_gtin' in line :\n",
    "#             m = re.search(r\"src =(.*)\\/\\>\",line)\n",
    "#             mydic['product_pic'] = m.group(1)\n",
    "        if 'Att_Sys_zh-cn_141_G' in line :   \n",
    "            mydic['product_name'] = re.search(r\",\\'(.*)\\'\",line).group(1) \n",
    "        if 'Att_Sys_zh-cn_74_G' in line :   \n",
    "            mydic['product_place'] = re.search(r\",\\'(.*)\\'\",line).group(1)  \n",
    "        if 'Att_Sys_zh-cn_22_G' in line :   \n",
    "            mydic['product_UNSPSC'] = re.search(r\",\\'(.*)\\'\",line).group(1)     \n",
    "        if 'Att_Sys_zh-cn_332_G' in line :   \n",
    "            mydic['product_package'] = re.search(r\",\\'(.*)\\'\",line).group(1)          \n",
    "        if 'Att_Sys_zh-cn_196_G' in line :   \n",
    "            mydic['product_price'] = re.search(r\",\\'(.*)\\'\",line).group(1)\n",
    "    return mydic"
   ]
  },
  {
   "cell_type": "code",
   "execution_count": null,
   "metadata": {
    "collapsed": true
   },
   "outputs": [],
   "source": [
    "driver.page_source\n",
    "\n"
   ]
  },
  {
   "cell_type": "code",
   "execution_count": null,
   "metadata": {
    "collapsed": true
   },
   "outputs": [],
   "source": [
    "import openpyxl\n",
    "import pandas\n",
    "\n",
    "# myexcel = pandas.read_excel('test.xlsx',names = ['index','UNSPSC_code','product','package','unit','place'] )\n",
    "myexcel = pandas.read_excel('千帆掌柜商品数据 (1).xlsx')\n",
    "\n",
    "link_list = []\n",
    "for  line in myexcel.iterrows():\n",
    "    try:\n",
    "        link_list.append(int(line[1]['条码']))\n",
    "    except:\n",
    "        continue"
   ]
  },
  {
   "cell_type": "code",
   "execution_count": 3,
   "metadata": {},
   "outputs": [
    {
     "name": "stdout",
     "output_type": "stream",
     "text": [
      "图片识别\n",
      "{'x': 720, 'y': 154}\n",
      "验证成功\n"
     ]
    },
    {
     "name": "stderr",
     "output_type": "stream",
     "text": [
      "/Users/josh_chiu/anaconda3/lib/python3.6/site-packages/bs4/__init__.py:181: UserWarning: No parser was explicitly specified, so I'm using the best available HTML parser for this system (\"lxml\"). This usually isn't a problem, but if you run this code on another system, or in a different virtual environment, it may use a different parser and behave differently.\n",
      "\n",
      "The code that caused this warning is on line 193 of the file /Users/josh_chiu/anaconda3/lib/python3.6/runpy.py. To get rid of this warning, change code that looks like this:\n",
      "\n",
      " BeautifulSoup(YOUR_MARKUP})\n",
      "\n",
      "to this:\n",
      "\n",
      " BeautifulSoup(YOUR_MARKUP, \"lxml\")\n",
      "\n",
      "  markup_type=markup_type))\n"
     ]
    }
   ],
   "source": [
    "driver,option,ip = create_driver()\n",
    "driver,test = get_cach(driver)"
   ]
  },
  {
   "cell_type": "code",
   "execution_count": 8,
   "metadata": {},
   "outputs": [],
   "source": [
    "driver.close()"
   ]
  },
  {
   "cell_type": "code",
   "execution_count": 235,
   "metadata": {},
   "outputs": [
    {
     "name": "stdout",
     "output_type": "stream",
     "text": [
      "图片识别\n",
      "{'x': 720, 'y': 154}\n"
     ]
    },
    {
     "name": "stderr",
     "output_type": "stream",
     "text": [
      "/Users/josh_chiu/anaconda3/lib/python3.6/site-packages/bs4/__init__.py:181: UserWarning: No parser was explicitly specified, so I'm using the best available HTML parser for this system (\"lxml\"). This usually isn't a problem, but if you run this code on another system, or in a different virtual environment, it may use a different parser and behave differently.\n",
      "\n",
      "The code that caused this warning is on line 193 of the file /Users/josh_chiu/anaconda3/lib/python3.6/runpy.py. To get rid of this warning, change code that looks like this:\n",
      "\n",
      " BeautifulSoup(YOUR_MARKUP})\n",
      "\n",
      "to this:\n",
      "\n",
      " BeautifulSoup(YOUR_MARKUP, \"lxml\")\n",
      "\n",
      "  markup_type=markup_type))\n"
     ]
    },
    {
     "name": "stdout",
     "output_type": "stream",
     "text": [
      "验证成功\n",
      "2 6934665088230 -0.013638sec\n",
      "2 正确资料 6934665088230\n",
      "3 6922577752189 -14.615432sec\n",
      "401\n"
     ]
    }
   ],
   "source": [
    "driver,option,ip = create_driver()\n",
    "sleep(1)\n",
    "driver,test = get_cach(driver)\n",
    "\n",
    "res = bs(driver.page_source)\n",
    "\n",
    "time_1 = datetime.datetime.now()\n",
    "driver.add_cookie({'name':driver.get_cookies()[0]['name'],'value':driver.get_cookies()[0]['value']})\n",
    "\n",
    "start = 1\n",
    "for keyword in range(0,100):\n",
    "    time_2 = datetime.datetime.now()\n",
    "    start +=1\n",
    "    \n",
    "    sec = (time_1 - time_2).total_seconds()\n",
    "    time_1 = time_2\n",
    "    print(start,link_list[start],str(sec)+'sec')\n",
    "\n",
    "    \n",
    "    sleep(1)\n",
    "    driver.find_element_by_id('keyword').clear()\n",
    "    search_bar = driver.find_element_by_id('keyword')\n",
    "    key = link_list[start]\n",
    "    sleep(1)\n",
    "    search_bar.send_keys(key)\n",
    "\n",
    "   \n",
    "    sleep(2)\n",
    "    driver.find_element_by_id('gdsBtn').click()\n",
    "    sleep(1)\n",
    "\n",
    "    \n",
    "    res = bs(driver.page_source)\n",
    "\n",
    "\n",
    "    \n",
    "    try:\n",
    "        if '401' in res.select('title')[0].text :\n",
    "            print(401)\n",
    "            break\n",
    "            driver.delete_all_cookies()\n",
    "            driver.close()\n",
    "            driver,option,ip = create_driver()\n",
    "            driver,test = get_cach(driver)\n",
    "            start-=1\n",
    "            driver.add_cookie({'name':driver.get_cookies()[0]['name'],'value':driver.get_cookies()[0]['value']})\n",
    "            continue\n",
    "    except Exception as e:\n",
    "        print(e)\n",
    "        \n",
    "        \n",
    "        \n",
    "        \n",
    "    \n",
    "#     if len(res.select('#Label4')) != 0:\n",
    "#         driver,test = get_cach(driver)\n",
    "    if   len(res.select('#Label1')) == 0 :\n",
    "        result[key] = \"找不到\"  \n",
    "        print(\"找不到\" )\n",
    "        sleep(3)\n",
    "        continue\n",
    "    if  '已下市' in res.select('#Label1')[0].text :\n",
    "        result[key] = \"已下市\"   \n",
    "        print(\"已下市\" )\n",
    "        sleep(3)\n",
    "        continue\n",
    "    if '暂无相关信息' in res.select('#Label1')[0].text :\n",
    "        result[key] = \"暂无相关信息\" \n",
    "        print(\"暂无相关信息\" )\n",
    "        sleep(3)\n",
    "        continue\n",
    "    if len(res.select('.p-info a')) == 0:\n",
    "        result[key] = \"奇怪了\" \n",
    "        print(\"奇怪了\" )\n",
    "        sleep(3)\n",
    "        continue\n",
    "    if \"未公开\" in (res.select('.p-supplier dd')[-1].text):\n",
    "        result[key] = \"未公开\" \n",
    "        print(\"未公开\" )\n",
    "        sleep(3)\n",
    "        continue\n",
    "        \n",
    "    link_click = driver.find_element_by_class_name('p-info')\n",
    "    sleep(3)\n",
    "    link_click.find_element_by_tag_name('a').click()  \n",
    "    driver.switch_to_window(driver.window_handles[1])\n",
    "    sleep(3)\n",
    "    new_res = bs(driver.page_source)\n",
    "    temp_dic = get_product_info(new_res)\n",
    "    temp_dic['link'] = res.select('.p-info a')[0].text\n",
    "    temp_dic['brand'] = res.select('.p-supplier dd')[0].text\n",
    "    temp_dic['company'] = res.select('.p-supplier dd')[1].text\n",
    "    driver.close()\n",
    "    driver.switch_to_window(driver.window_handles[0])\n",
    "    sleep(3)\n",
    "    \n",
    "    result[res.select('.p-info a')[0].text] = temp_dic   \n",
    "    print(start,\"正确资料\",link_list[start])\n",
    "    ip_list.append(ip)"
   ]
  },
  {
   "cell_type": "code",
   "execution_count": 220,
   "metadata": {},
   "outputs": [
    {
     "name": "stdout",
     "output_type": "stream",
     "text": [
      "[{'domain': 'search.anccnet.com', 'expiry': 2173439494, 'httpOnly': False, 'name': 'ASP.NET_SessionId', 'path': '/', 'secure': False, 'value': 'lwxojdi1gg040455ppwkhzit'}]\n"
     ]
    }
   ],
   "source": [
    "print(driver.get_cookies())\n",
    "# driver.delete_all_cookies()\n",
    "# driver.desired_capabilities"
   ]
  },
  {
   "cell_type": "code",
   "execution_count": 219,
   "metadata": {},
   "outputs": [
    {
     "data": {
      "text/plain": [
       "[]"
      ]
     },
     "execution_count": 219,
     "metadata": {},
     "output_type": "execute_result"
    }
   ],
   "source": [
    "driver.execute_script(\"return localStorage\")"
   ]
  },
  {
   "cell_type": "code",
   "execution_count": 225,
   "metadata": {
    "collapsed": true
   },
   "outputs": [],
   "source": [
    "driver.find_element_by_id('keyword').clear()\n",
    "search_bar = driver.find_element_by_id('keyword')"
   ]
  },
  {
   "cell_type": "code",
   "execution_count": 226,
   "metadata": {
    "collapsed": true
   },
   "outputs": [],
   "source": [
    "search_bar.send_keys('巧克力')"
   ]
  },
  {
   "cell_type": "code",
   "execution_count": 241,
   "metadata": {
    "collapsed": true
   },
   "outputs": [],
   "source": [
    "driver.back()"
   ]
  },
  {
   "cell_type": "code",
   "execution_count": 242,
   "metadata": {},
   "outputs": [
    {
     "data": {
      "text/plain": [
       "'<!DOCTYPE html><html xmlns=\"http://www.w3.org/1999/xhtml\"><head>\\n<meta charset=\"gb2312\" />\\n<meta http-equiv=\"X-UA-Compatible\" content=\"IE=edge,chrome=1\" />\\n    <meta name=\"keywords\" content=\"GDSN, 商品, 产品, 生产企业, 制造商, 零售商, GS1China, 中国物品编码中心\" />\\n    <meta name=\"description\" content=\"UNSPSC 联合国标准产品服务与分类代码 分类产品列表 \" />\\n    <meta name=\"save\" content=\"history\" />\\n    \\n    <meta http-equiv=\"Expires\" content=\"0\" />\\n    <meta http-equiv=\"Cache-Control\" content=\"no-cache\" />\\n    <meta http-equiv=\"Pragma\" content=\"no-cache\" />\\n    <title>条码数据库，商品信息，生产企业，制造商，零售商，全球数据同步--搜索结果</title>\\n    <link rel=\"stylesheet\" href=\"http://www.anccnet.com/css/common.css\" />\\n    <link rel=\"stylesheet\" href=\"http://www.anccnet.com/css/paginationWeb.css\" />\\n    <link rel=\"stylesheet\" href=\"http://www.anccnet.com/css/width100.css\" />\\n<link rel=\"stylesheet\" href=\"http://www.anccnet.com/V3/style/zCool-1.0/icons.css\" />\\n<link rel=\"stylesheet\" href=\"http://www.anccnet.com/V3/style/zCool-1.0/form.css\" />\\n<link rel=\"stylesheet\" href=\"http://www.anccnet.com/style/searchResult.css\" />\\n    <style type=\"text/css\">\\n#results li { }\\n.result {\\n    \\n\\tmargin:0;\\n\\tpadding:10px 0;\\n\\tborder-bottom:1px solid #999;\\n}\\n.result .p-img {\\n\\tfloat:left;\\n\\tmargin:0;\\n\\tpadding:1px;\\n\\tborder:1px solid #999;\\n\\twidth:90px;\\n\\theight:90px;\\n}\\n.result .p-img a {\\n\\tdisplay:block;\\n\\toverflow:hidden;\\n\\twidth:90px;\\n\\theight:90px;\\n}\\n.result .p-img a img {\\n\\tdisplay:block;\\n\\twidth:90px;\\n\\theight:90px;\\n}\\n.result .p-supplier {\\n\\tfloat:right;\\n\\twidth:23em;\\n}\\n.result .p-info { margin:0 25em 0 110px; }\\n.result dt {\\n\\tfloat:left;\\n\\tfont-weight:bold;\\n}\\n.result dd { }\\n#gdsSearch \\n{\\n\\tmargin: 19px 0 0;\\n}\\n#keyword, #gdsBtn\\n{\\n\\theight: 40px;\\n}\\n#keyword \\n{\\n\\tbackground-image: none;\\n\\tbackground-color: #fff;\\n\\tfont-size: 16px;\\n}\\n #gdsBtn {background-size: 100% 100%;margin-left: 10px!important;}\\n.l-captcha iframe \\n{\\n\\theight: 40px;\\n}\\n .l-captcha iframe  #l_captcha_widget .captcha-widget-copyright,.l-captcha iframe  #l_captcha_widget .captcha-widget-event\\n{\\n\\ttop: -5px;\\n}\\n\\n</style>\\n\\n<link rel=\"stylesheet\" href=\"dist/photoswipe/photoswipe.css\" />\\n    <!--<link rel=\"stylesheet\" href=\"dist/swiper/swiper.min.css\">-->\\n    <link rel=\"stylesheet\" href=\"dist/photoswipe/default-skin/default-skin.css\" />\\n    <link rel=\"stylesheet\" href=\"css/goods.css\" />\\n    <!--<script src=\"dist/swiper/swiper.min.js\"></script>-->\\n    <script type=\"text/javascript\" async=\"\" src=\"http://captcha.luosimao.com/static/dist/captcha.js?v=201805071004\"></script><script src=\"dist/jquery-1.11.2.js\"></script>\\n    <script src=\"dist/photoswipe/photoswipe.min.js\"></script>\\n    <script src=\"dist/photoswipe/photoswipe-ui-default.min.js\"></script>\\n\\n<script src=\"http://www.anccnet.com/V3/js/zCool-1.0/zCool.js\"></script>\\n<script src=\"http://www.anccnet.com/V3/js/zCool-1.0/zCool.Form.js\"></script>\\n<script src=\"http://www.anccnet.com/V3/js/zCool-1.0/zCool.String.js\"></script>\\n<script src=\"http://www.anccnet.com/js/UICheck/LoginCheck.js\"></script>\\n<!--人机验证-->\\n<script src=\"//captcha.luosimao.com/static/js/api.js\"></script>\\n\\n\\n\\n<script></script>\\n    <script type=\"text/javascript\"> \\n\\t\\t\\t\\t\\t\\n \\n     // 定义：限制元素的宽高在一个规定尺寸的容器内\\n     // @img DOM Element 通常为图片\\n     // @minWidth UInt 限定元素的最大宽度\\n     // @minWidth UInt 限定元素的最大高度\\n     // @fill Boolean 在宽高都不足规定的尺寸时，true就等比放大至规定的尺寸，否则保持原样\\n     function limitImgSize(img, maxWidth, maxHeight, fill) {\\n\\n         var style = img.style, ow, oh, wRatio, hRatio, width, height;\\n\\n         //var toLocate = $.finalStyle(img, \\'position\\') === \\'absolute\\';\\n         var toLocate = true;\\n\\n         style.top = style.left = \\'-32767px\\';\\n         style.width = style.height = \\'auto\\';\\n\\n         if ((ow = img.offsetWidth) &amp;&amp; (oh = img.offsetHeight) &amp;&amp;\\n\\t\\t\\t((ow &gt; maxWidth || oh &gt; maxHeight) || (fill &amp;&amp; ow &lt; maxWidth &amp;&amp; oh &lt; maxHeight))) {\\n\\n             if ((wRatio = ow / maxWidth) &gt;= (hRatio = oh / maxHeight)) {\\n                 style.width = maxWidth + \\'px\\';\\n                 style.left = \\'\\';\\n                 style.height = (height = oh / wRatio) + \\'px\\';\\n                 style.top = toLocate ? (maxHeight - height) / 2 + \\'px\\' : \\'\\';\\n             }\\n             else {\\n                 style.height = maxHeight + \\'px\\';\\n                 style.top = \\'\\';\\n                 style.width = (width = ow / hRatio) + \\'px\\';\\n                 style.left = toLocate ? (maxWidth - width) / 2 + \\'px\\' : \\'\\';\\n             }\\n         }\\n         else {\\n             if (toLocate) {\\n                 style.top = (maxHeight - oh) / 2 + \\'px\\';\\n                 style.left = (maxWidth - ow) / 2 + \\'px\\';\\n             }\\n             else {\\n                 style.top = style.left = \\'\\';\\n             }\\n         }\\n\\n         return img;\\n     };\\n    </script>\\n    </head>\\n    <body>\\n    <form name=\"form1\" method=\"post\" action=\"searchResult2.aspx?keyword=6934665088230\" id=\"form1\">\\n<div>\\n<input type=\"hidden\" name=\"__VIEWSTATE\" id=\"__VIEWSTATE\" value=\"/wEPDwUKMTcwMzQzMjM1OQ9kFgICAQ9kFg4CAQ8PFgIeBFRleHQFDTY5MzQ2NjUwODgyMzBkZAIDDxYCHgdWaXNpYmxlaGQCBQ9kFgICAQ8PFgIfAAVqPGZvbnQgY29sb3I9J2JsYWNrJz7ns7vnu5/kuK3nrKblkIjmnaHku7Y8L2ZvbnQ+IDA2OTM0NjY1MDg4MjMwPGZvbnQgY29sb3I9J2JsYWNrJz4g55qE5ZWG5ZOB5pyJ77yaPC9mb250PmRkAgcPDxYCHwFoZGQCCQ8WAh8BaGQCDQ8PFgYeEEN1cnJlbnRQYWdlSW5kZXgCAR4OQ3VzdG9tSW5mb1RleHQFjgHmgLvorrDlvZXmlbDvvJo8Zm9udCBjb2xvcj0iYmx1ZSI+PGI+MTwvYj48L2ZvbnQ+IOaAu+mhteaVsO+8mjxmb250IGNvbG9yPSJibHVlIj48Yj4xPC9iPjwvZm9udD4g5b2T5YmN6aG177yaPGZvbnQgY29sb3I9InJlZCI+PGI+MTwvYj48L2ZvbnQ+HgtSZWNvcmRjb3VudAIBZGQCDw8WAh8BaGRkMeBo5bP2Fws1Py1hGe1IES2SqzY=\" />\\n</div>\\n\\n<div>\\n\\n\\t<input type=\"hidden\" name=\"__EVENTVALIDATION\" id=\"__EVENTVALIDATION\" value=\"/wEWAgKi8N+JDgLd5eLQCQyR2B5pPv1iFHrwxwkzFBqTvXB5\" />\\n</div>\\n      <div class=\"wrap\">\\n        <div class=\"header\">\\n            <h1>\\n                <a href=\"http://www.gds.org.cn\">\\n                    <img name=\"logoBar\" src=\"/img/logoBar1.gif\" alt=\"中国商品信息服务平台\" /></a></h1>\\n            <div id=\"gdsSearch\" class=\"search\">\\n                \\n                <p> <label for=\"keyword\" class=\"input-prompt-label\"><input name=\"keyword\" type=\"text\" value=\"6934665088230\" maxlength=\"2048\" id=\"keyword\" tabindex=\"1\" size=\"55\" class=\"inputText\" /></label>\\n         \\n                   \\n                    <label for=\"gdsBtn\" class=\"for-gdsBtn\">\\n            <button type=\"button\" name=\"gdsBtn\" id=\"gdsBtn\">搜\\xa0\\xa0索</button>\\n          </label>\\n                  \\n                </p>\\n            </div>\\n        </div>\\n        <div class=\"bodyer\">\\n          <div class=\"mainly\">\\n            <div class=\"main\">\\n              <h2>\\n                <div style=\"padding-top :10px\"> <div id=\"yanzhengP\" width=\"100%\">\\n                  <span id=\"Label1\" style=\"display:inline-block;color:Red;width:100%;text-align:center\"><font color=\"black\">系统中符合条件</font> 06934665088230<font color=\"black\"> 的商品有：</font></span>\\n                    <br />\\n                  <span id=\"Label3\" style=\"display:inline-block;color:Red;width:100%;text-align:center\"></span>\\n                  </div>\\n                  \\n                  \\n                  </div>\\n                </h2>\\n              \\n            </div>\\n              <div id=\"outter\">\\n                <ol id=\"results\">\\n                  \\n                      <li>\\n                        <div class=\"result\">\\n                          <p class=\"p-img\" align=\"center\"><a id=\"repList_ctl00_herl\" target=\"_blank\"> <img src=\"/img/empty_90-90.8.png\" id=\"repList_ctl00_productimg\" width=\"90\" height=\"90\" onload=\"limitImgSize(this, 90, 90,true);\" style=\"left: 0px; top: 0px; height: auto; width: auto;\" /></a></p>\\n                          <dl class=\"p-supplier\">\\n                            <dt>商标：</dt>\\n                            <dd>蒙牛</dd>\\n                            <dt>发布厂家：</dt>\\n                            <dd>\\n                              <a id=\"repList_ctl00_firmLink\" target=\"_blank\" style=\"text-decoration:none;\">内蒙古蒙牛乳业(集团)股份有限公司</a>\\n                            </dd>\\n                           \\n                            <dt>条码状态：</dt>\\n                            <dd>\\n                              <span id=\"repList_ctl00_status\">经查，该商品条码已在中国物品编码中心注册，编码信息已按规定通报。</span>\\n                            </dd>\\n                          </dl>\\n                          <dl class=\"p-info\">\\n                            <dt>商品条码：</dt>\\n                         \\n                         <dd> <a href=\"http://search.anccnet.com/goodsDetail.aspx?base_id=F25F56A9F703ED74553C007D12A8B4F6F7D4119CE62FA9F7B7002B3CDCFF0F448D06E741FFCE851C\" target=\"_blank\">06934665088230</a></dd>   \\n                         <dd> </dd>\\n                         <dd> </dd>\\n                            <dt>名称：</dt>\\n                            <dd> 冠益乳风味发酵乳燕麦黄桃</dd>\\n                            <dt>规格型号：</dt>\\n                            <dd> 250g</dd>\\n                            <dt>描述：</dt>\\n                            <dd> </dd>\\n                          </dl>\\n                          <br clear=\"all\" />\\n                        </div>\\n                      </li>\\n                    \\n                </ol>\\n              </div>\\n            </div>\\n            <div id=\"myPager\" style=\"border-width:0px;\">\\n\\n</div>\\n          </div>\\n          \\n        </div>\\n        \\n\\n<style type=\"text/css\">\\n    /** 页脚 */\\n.footer{\\n\\tpadding:1px 1px 20px;\\n\\tborder-top:1px solid #CADAE2;\\n\\tzoom:1;\\n\\ttext-align:center;\\n\\tline-height:normal;\\n\\tfont-size :13px\\n}\\n.footer p{ margin:14px auto;}\\n.intro{ padding-top:20px;height:25px;background:url(http://www.anccnet.com/img/web_header1.png) 0 -130px repeat-x;}\\n.introList{\\n\\tdisplay:inline-block;\\n\\tdisplay:-moz-inline-box;\\n\\t+display:inline;\\n\\t+zoom:1;\\n\\toverflow:hidden;\\n\\tpadding-left:0;\\n}\\n.intro li{\\n\\tdisplay:inline;\\n\\tfloat:left;\\n\\tmargin-left:-1px;\\n\\tpadding:0 1.8em;\\n\\tborder-left:1px solid #000;\\n}\\n.copyright em{ font:14px Georgia, \"Times New Roman\", Times, serif}\\n.phone{ display:none;}\\n.icp{}\\n.email{ display:none;}\\n</style>\\n<script type=\"text/javascript\">\\nfunction h(obj,url){obj.style.behavior=\\'url(#default#homepage)\\';obj.setHomePage(url);}\\n</script>\\n<div class=\"footer\">\\n    <div class=\"intro\">\\n      <ul class=\"introList\">\\n        <li><a href=\"http://www.anccnet.com/aboutGds.aspx\">关于平台</a></li>\\n        <li><a href=\"http://www.anccnet.com/highService.aspx\">高端服务</a></li>\\n        <li><a href=\"http://www.anccnet.com/aboutANCC.aspx\">中国物品编码中心</a></li>\\n        <li><a href=\"http://www.anccnet.com/legal_notices.aspx\">法律声明</a></li>\\n        <li><a href=\"http://www.anccnet.com/service_iterm.aspx\">服务条款</a></li>\\n        <li><a href=\"#\" onclick=\"h(this,\\'http://www.gds.org.cn/\\')\">设为首页</a></li>\\n      </ul>\\n    </div>\\n    <p class=\"copyright\"><em>Copyright © 2008 gds.org.cn All rights reserved</em> 中国物品编码中心 版权所有</p>\\n    <p class=\"icp\"><a href=\"http://www.miibeian.gov.cn/\" target=\"_blank\">京ICP备05012621号</a></p>\\n  </div>\\n      \\n      \\n      <script type=\"text/javascript\" language=\"javascript\">\\nfunction gdsBtn_onclick() {\\n//var obj =document.getElementById(\"keyword\");\\n//if(!/\\\\S/.test(obj.value)) //1009改过\\n//{return;\\n//}\\n//window.location.href = \"searchResult.aspx?keyword=\" + escape(obj.value);\\n////debugger\\n}\\n        </script>\\n    </form>\\n\\n    <script type=\"text/javascript\">\\n\\n\\n// 搜索区块表单元素\\n//var gdsSearch = $(\"#gdsSearch\")[0], gdsElems = $($.byTag(gdsSearch, \"input\"))\\n// 设置搜索区块焦点标志\\n//gdsElems.focus(function(){ gdsSearch.focusStamp = true;}).blur(function(){ gdsSearch.focusStamp = false;});\\n// 提交事件判断\\n//document.forms[\"form1\"].onsubmit=function(){\\n//\\tif(gdsSearch.focusStamp){\\n//\\t\\tgdsBtn_onclick();\\n//\\t\\treturn false;\\n//\\t}\\n\\t\\n//}\\n</script>\\n    <script type=\"text/javascript\">\\n\\n///$(\\'#keyword\\').inputPrompts(\\'input-prompt-text\\');\\n        $(\\'#gdsBtn\\').click(submitCheck);\\n\\n        function submitCheck(e) {\\n            e.preventDefault();\\n            var keyword = $.byId(\\'keyword\\');\\n            var value = keyword.value.trim();\\n            var search_subjoin;\\n            var sValue;\\n            if (value &amp;&amp; value !== keyword.getAttribute(\\'placeholder\\')) {\\n                $(\\'&lt;a href=\"/searchResult2.aspx?keyword=\\' + value + \\'\"&gt;&lt;/a&gt;\\').appendTo(\\'body\\').on(\\'click\\').remove(true, true);\\n\\n                //\\t\\t\\t\\t$.byId(\\'CheckCodeBox\\').style.display = \\'\\';\\n                //\\t\\t\\t\\tsearch_subjoin = $.byId(\\'search_subjoin\\');\\n                //\\t\\t\\t\\tsValue = search_subjoin.value.trim();\\n                //\\t\\t\\t\\tif(  sValue &amp;&amp; (!search_subjoin.getAttribute(\\'data-async-valid\\') || $(search_subjoin).hasClass($.Form.asyncValidClass)) ){\\n                //\\t\\t\\t\\t\\twindow.location.href = \\n                //\\t\\t\\t\\t\\t\\t\"/searchResult2.aspx?keyword=\" + value\\n                //\\t\\t\\t\\t\\t\\t+ \\'&amp;search_subjoin=\\' + sValue;\\n                //\\t\\t\\t\\t}\\n                    checkRes.value = \"\";\\n            }\\n        };\\n\\t\\t//人机验证\\n        function getResponse(resp) {\\n//            console.log(resp);  // resp 即验证成功后获取的值\\n//            var checkRes = document.getElementById(\\'check_response\\');\\n//            //window.confirm(checkRes);\\n//            checkRes.value = \"check_ok\";\\n            var url = \"writeSession.aspx\";\\n            var param = \"responseResult=\" + \"check_ok\";\\n            sendRequestPost(url, param);\\n            //window.confirm(checkRes.value);\\n        }\\n\\n        var xmlHttpRequest;\\n        function createXMLHttpRequest() {\\n            try {\\n                // Firefox, Opera 8.0+, Safari   \\n                xmlHttpRequest = new XMLHttpRequest();\\n            }\\n            catch (e) {\\n\\n                // Internet Explorer   \\n                try {\\n                    xmlHttpRequest = new ActiveXObject(\"Msxml2.XMLHTTP\");\\n                }\\n                catch (e) {\\n\\n                    try {\\n                        xmlHttpRequest = new ActiveXObject(\"Microsoft.XMLHTTP\");\\n                    }\\n                    catch (e) {\\n                        alert(\"您的浏览器不支持AJAX！\");\\n                        return false;\\n                    }\\n                }\\n            }\\n        }\\n        //发送请求函数\\n        function sendRequestPost(url, param) {\\n            createXMLHttpRequest();\\n            xmlHttpRequest.open(\"GET\", url + \"?\" + param, true);\\n            xmlHttpRequest.onreadystatechange = processResponse;\\n            xmlHttpRequest.send(null);\\n        }\\n        //处理返回信息函数\\n        function processResponse() {\\n            //alert(\"processResponse\");\\n            if (xmlHttpRequest.readyState == 4) {\\n                if (xmlHttpRequest.status == 200) {\\n                    var res = xmlHttpRequest.responseText;\\n                    //alert(res);\\n                } else {\\n                    //alert(\"请求页面异常\");\\n                }\\n            }\\n        }\\n</script>\\n\\n</body></html>'"
      ]
     },
     "execution_count": 242,
     "metadata": {},
     "output_type": "execute_result"
    }
   ],
   "source": [
    "driver."
   ]
  },
  {
   "cell_type": "code",
   "execution_count": null,
   "metadata": {
    "collapsed": true
   },
   "outputs": [],
   "source": []
  },
  {
   "cell_type": "code",
   "execution_count": null,
   "metadata": {
    "collapsed": true
   },
   "outputs": [],
   "source": []
  },
  {
   "cell_type": "code",
   "execution_count": null,
   "metadata": {
    "collapsed": true
   },
   "outputs": [],
   "source": []
  }
 ],
 "metadata": {
  "kernelspec": {
   "display_name": "Python 3",
   "language": "python",
   "name": "python3"
  },
  "language_info": {
   "codemirror_mode": {
    "name": "ipython",
    "version": 3
   },
   "file_extension": ".py",
   "mimetype": "text/x-python",
   "name": "python",
   "nbconvert_exporter": "python",
   "pygments_lexer": "ipython3",
   "version": "3.6.3"
  }
 },
 "nbformat": 4,
 "nbformat_minor": 2
}
